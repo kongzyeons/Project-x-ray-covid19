{
 "cells": [
  {
   "cell_type": "code",
   "execution_count": 1,
   "metadata": {},
   "outputs": [],
   "source": [
    "import cv2\n",
    "import os\n",
    "\n",
    "import numpy as np\n",
    "import pandas as pd\n",
    "from random import shuffle"
   ]
  },
  {
   "cell_type": "code",
   "execution_count": 2,
   "metadata": {},
   "outputs": [],
   "source": [
    "size=224\n",
    "training_data = []"
   ]
  },
  {
   "cell_type": "code",
   "execution_count": 3,
   "metadata": {},
   "outputs": [
    {
     "name": "stdout",
     "output_type": "stream",
     "text": [
      "2822\n"
     ]
    }
   ],
   "source": [
    "path=r'C:\\Users\\lenovo\\Desktop\\KU\\Project Covid19 X-ray2'\n",
    "\n",
    "df=pd.read_csv(os.path.join(path,'metadata.csv'))\n",
    "df=df[['finding','filename']]\n",
    "df=df.loc[(df['finding']=='COVID-19')]\n",
    "df=df['filename'].tolist()\n",
    "\n",
    "img_path=r'C:\\Users\\lenovo\\Desktop\\KU\\Project Covid19 X-ray2\\images\\img_coivd'\n",
    "\n",
    "\n",
    "\n",
    "\n",
    "\n",
    "\n",
    "#COVID-19\n",
    "for i in df:\n",
    "    read_path=os.path.join(img_path,i)\n",
    "    class_type=2\n",
    "    try:\n",
    "        img=cv2.imread(read_path)\n",
    "        img=cv2.resize(img,(size,size))\n",
    "        img=cv2.cvtColor(img, cv2.COLOR_BGR2RGB)\n",
    "        training_data.append([img,class_type])  \n",
    "    except Exception as e:      \n",
    "         pass\n",
    "        \n",
    "        \n",
    "#PNEUMONIA\n",
    "img_path1=r'C:\\Users\\lenovo\\Desktop\\KU\\Project Covid19 X-ray2\\images\\PNEUMONIA'\n",
    "\n",
    "for i in os.listdir(img_path1):\n",
    "    read_path=os.path.join(img_path1,i)\n",
    "    class_type=1\n",
    "    try:\n",
    "        img=cv2.imread(read_path)\n",
    "        img=cv2.resize(img,(size,size))\n",
    "        img=cv2.cvtColor(img, cv2.COLOR_BGR2RGB)\n",
    "        training_data.append([img,class_type])  \n",
    "    except Exception as e:      \n",
    "         pass\n",
    "\n",
    " \n",
    "\n",
    " #NORMAL\n",
    "img_path1=r'C:\\Users\\lenovo\\Desktop\\KU\\Project Covid19 X-ray2\\images\\NORMAL'\n",
    "\n",
    "for i in os.listdir(img_path1):\n",
    "    read_path=os.path.join(img_path1,i)\n",
    "    class_type=0\n",
    "    try:\n",
    "        img=cv2.imread(read_path)\n",
    "        img=cv2.resize(img,(size,size))\n",
    "        img=cv2.cvtColor(img, cv2.COLOR_BGR2RGB)\n",
    "        training_data.append([img,class_type])  \n",
    "    except Exception as e:      \n",
    "         pass\n",
    "\n",
    "print(len(training_data)) "
   ]
  },
  {
   "cell_type": "code",
   "execution_count": 4,
   "metadata": {},
   "outputs": [],
   "source": [
    "from random import shuffle\n",
    "shuffle(training_data)"
   ]
  },
  {
   "cell_type": "code",
   "execution_count": 5,
   "metadata": {},
   "outputs": [
    {
     "name": "stdout",
     "output_type": "stream",
     "text": [
      "(2822, 224, 224, 3)\n",
      "(2822,)\n"
     ]
    }
   ],
   "source": [
    "X=[]\n",
    "y=[]\n",
    "for features,label in training_data:\n",
    "    X.append(features)\n",
    "    y.append(label)\n",
    "    \n",
    "X=np.array(X) / 255.0  \n",
    "y=np.array(y)\n",
    "\n",
    "print(X.shape)\n",
    "print(y.shape)"
   ]
  },
  {
   "cell_type": "code",
   "execution_count": 6,
   "metadata": {},
   "outputs": [],
   "source": [
    "import pickle\n",
    "\n",
    "pickle_out=open('X.pickle','wb')\n",
    "pickle.dump(X,pickle_out)\n",
    "pickle_out.close()\n",
    "\n",
    "pickle_out=open('y.pickle','wb')\n",
    "pickle.dump(y,pickle_out)\n",
    "pickle_out.close()"
   ]
  },
  {
   "cell_type": "code",
   "execution_count": null,
   "metadata": {},
   "outputs": [],
   "source": []
  },
  {
   "cell_type": "code",
   "execution_count": null,
   "metadata": {},
   "outputs": [],
   "source": []
  }
 ],
 "metadata": {
  "kernelspec": {
   "display_name": "Python 3",
   "language": "python",
   "name": "python3"
  },
  "language_info": {
   "codemirror_mode": {
    "name": "ipython",
    "version": 3
   },
   "file_extension": ".py",
   "mimetype": "text/x-python",
   "name": "python",
   "nbconvert_exporter": "python",
   "pygments_lexer": "ipython3",
   "version": "3.7.7"
  }
 },
 "nbformat": 4,
 "nbformat_minor": 2
}
